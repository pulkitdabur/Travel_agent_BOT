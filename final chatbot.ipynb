{
 "cells": [
  {
   "cell_type": "code",
   "execution_count": 1,
   "metadata": {
    "scrolled": false
   },
   "outputs": [
    {
     "name": "stdout",
     "output_type": "stream",
     "text": [
      "\r",
      "List Trainer: [#####               ] 25%"
     ]
    },
    {
     "name": "stderr",
     "output_type": "stream",
     "text": [
      "[nltk_data] Downloading package stopwords to\n",
      "[nltk_data]     C:\\Users\\91813\\AppData\\Roaming\\nltk_data...\n",
      "[nltk_data]   Package stopwords is already up-to-date!\n",
      "[nltk_data] Downloading package averaged_perceptron_tagger to\n",
      "[nltk_data]     C:\\Users\\91813\\AppData\\Roaming\\nltk_data...\n",
      "[nltk_data]   Package averaged_perceptron_tagger is already up-to-\n",
      "[nltk_data]       date!\n"
     ]
    },
    {
     "name": "stdout",
     "output_type": "stream",
     "text": [
      "List Trainer: [####################] 100%\n",
      "Hi\n",
      "You: hello,how are you?\n",
      "BoB:  I m fine.\n",
      "You: exit\n"
     ]
    }
   ],
   "source": [
    "from chatterbot import ChatBot\n",
    "#from chatterbot.trainers import ChatterBotCorpusTrainer\n",
    "from chatterbot.trainers import ListTrainer\n",
    "\n",
    "bot=ChatBot('BoB')\n",
    "trainer = ListTrainer(bot)\n",
    "\n",
    "# trainer.train([\n",
    "#    \"\"\n",
    "# ])\n",
    "\n",
    "trainer.train([\n",
    "    'Hello, how are you?',\n",
    "    'I am doing well.',\n",
    "    'That is good to hear.',\n",
    "    'Thank you'\n",
    "])\n",
    "print(\"Hi\")\n",
    "while True:\n",
    "    request=input('You: ')\n",
    "    if request=='exit':\n",
    "        break\n",
    "    else:    \n",
    "        response = bot.get_response(request)\n",
    "        print('BoB: ',response)"
   ]
  },
  {
   "cell_type": "markdown",
   "metadata": {},
   "source": [
    "# Bot for travel with audio\n",
    "\n"
   ]
  },
  {
   "cell_type": "code",
   "execution_count": null,
   "metadata": {},
   "outputs": [],
   "source": []
  },
  {
   "cell_type": "code",
   "execution_count": null,
   "metadata": {},
   "outputs": [
    {
     "name": "stdout",
     "output_type": "stream",
     "text": [
      "List Trainer: [####################] 100%\n"
     ]
    },
    {
     "name": "stderr",
     "output_type": "stream",
     "text": [
      "[nltk_data] Downloading package stopwords to\n",
      "[nltk_data]     C:\\Users\\91813\\AppData\\Roaming\\nltk_data...\n",
      "[nltk_data]   Package stopwords is already up-to-date!\n",
      "[nltk_data] Downloading package averaged_perceptron_tagger to\n",
      "[nltk_data]     C:\\Users\\91813\\AppData\\Roaming\\nltk_data...\n",
      "[nltk_data]   Package averaged_perceptron_tagger is already up-to-\n",
      "[nltk_data]       date!\n"
     ]
    },
    {
     "name": "stdout",
     "output_type": "stream",
     "text": [
      "List Trainer: [####################] 100%\n"
     ]
    }
   ],
   "source": [
    "from chatterbot import ChatBot\n",
    "from chatterbot.trainers import ListTrainer\n",
    "import pyttsx3 as pp\n",
    "\n",
    "bot=ChatBot('Bob')\n",
    "\n",
    "trainer=ListTrainer(bot)\n",
    "\n",
    "greet=trainer.train([\n",
    "    \"Hi\",\n",
    "    \"Hello,How are you?\",\n",
    "    \"I m fine.\",\n",
    "    \"How can i help you\",\n",
    "    \n",
    "])\n",
    "\n",
    "travel=trainer.train([\n",
    "    \"Can you suggest me any tourist place\",\n",
    "    \"offcourse,some of the places are Dharamshala, Dalhousie, Shimla, Spiti, Ladakh\",\n",
    "    \"please visit to this site for pakage booking https://www.holidify.com/places/dharamsala/\",\n",
    "    \"Dalhousie\",\n",
    "    \"please visit to this site for pakage booking https://www.holidify.com/places/dalhousie/\",\n",
    "    \"Shimla\",\n",
    "    \"please visit to this site for pakage booking https://www.holidify.com/places/shimla/\",\n",
    "    \"Spiti\",\n",
    "    \"please visit to this site for pakage booking https://www.holidify.com/places/spiti/\",\n",
    "    \"Ladakh\",\n",
    "    \"please visit to this site for pakage booking https://www.holidify.com/places/ladakh/\"\n",
    "])\n",
    "while True:\n",
    "    request=input('You: ')\n",
    "    if request=='exit':\n",
    "        break\n",
    "    else:    \n",
    "        response = bot.get_response(request)\n",
    "        print('Bot: ',response)\n",
    "        engine = pp.init()\n",
    "        voices=engine.getProperty('voices')\n",
    "        engine.setProperty('voice',voices[0].id)\n",
    "        engine.say(response)\n",
    "        engine.runAndWait()                "
   ]
  },
  {
   "cell_type": "markdown",
   "metadata": {},
   "source": [
    "# making our bot to speak the answers\n"
   ]
  },
  {
   "cell_type": "code",
   "execution_count": 3,
   "metadata": {},
   "outputs": [],
   "source": [
    "import pyttsx3 as pp"
   ]
  },
  {
   "cell_type": "code",
   "execution_count": 10,
   "metadata": {},
   "outputs": [],
   "source": [
    "engine = pp.init()\n",
    "voices=engine.getProperty('voices')\n",
    "engine.setProperty('voice',voices[0].id)\n",
    "engine.say()\n",
    "engine.runAndWait()"
   ]
  },
  {
   "cell_type": "code",
   "execution_count": null,
   "metadata": {},
   "outputs": [],
   "source": []
  }
 ],
 "metadata": {
  "kernelspec": {
   "display_name": "Python 3",
   "language": "python",
   "name": "python3"
  },
  "language_info": {
   "codemirror_mode": {
    "name": "ipython",
    "version": 3
   },
   "file_extension": ".py",
   "mimetype": "text/x-python",
   "name": "python",
   "nbconvert_exporter": "python",
   "pygments_lexer": "ipython3",
   "version": "3.7.4"
  }
 },
 "nbformat": 4,
 "nbformat_minor": 2
}
